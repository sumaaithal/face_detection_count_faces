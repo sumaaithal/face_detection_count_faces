{
 "cells": [
  {
   "cell_type": "code",
   "execution_count": 1,
   "metadata": {},
   "outputs": [],
   "source": [
    "import cv2\n",
    "import numpy\n",
    "import dlib"
   ]
  },
  {
   "cell_type": "code",
   "execution_count": 10,
   "metadata": {},
   "outputs": [],
   "source": [
    "img = cv2.imread(\"C:/Users/USER/Desktop/projects/socerr.jpg\")"
   ]
  },
  {
   "cell_type": "code",
   "execution_count": 11,
   "metadata": {},
   "outputs": [],
   "source": [
    "detector = dlib.get_frontal_face_detector()"
   ]
  },
  {
   "cell_type": "code",
   "execution_count": 14,
   "metadata": {},
   "outputs": [
    {
     "name": "stdout",
     "output_type": "stream",
     "text": [
      "[(112, 448) (198, 534)] 1\n",
      "[(693, 125) (765, 197)] 2\n",
      "[(845, 421) (917, 493)] 3\n",
      "[(613, 405) (685, 477)] 4\n",
      "[(1005, 173) (1077, 245)] 5\n",
      "[(1069, 413) (1141, 485)] 6\n",
      "[(333, 101) (405, 173)] 7\n",
      "[(517, 93) (589, 165)] 8\n",
      "[(349, 445) (421, 517)] 9\n",
      "[(853, 125) (925, 197)] 10\n"
     ]
    }
   ],
   "source": [
    "img_gray = cv2.cvtColor(img,cv2.COLOR_RGB2GRAY)\n",
    "faces = detector(img_gray)\n",
    "i = 0\n",
    "for face in faces:\n",
    "    x,y = face.left(),face.top()\n",
    "    x1,y1 = face.right(),face.bottom()\n",
    "    cv2.rectangle(img,(x,y),(x1,y1),(0,255,0),2)\n",
    "    i=i+1\n",
    "    cv2.putText(img,'#face:'+str(i),(x-10,y-10),cv2.FONT_HERSHEY_SIMPLEX,0.7,(0,255,255),2)\n",
    "    print(face,i)\n",
    "cv2.imshow(\"count\",img)\n",
    "cv2.waitKey(0)\n",
    "cv2.destroyAllWindows()"
   ]
  },
  {
   "cell_type": "code",
   "execution_count": 8,
   "metadata": {},
   "outputs": [],
   "source": []
  },
  {
   "cell_type": "code",
   "execution_count": 5,
   "metadata": {},
   "outputs": [],
   "source": [
    "#cv2.imshow(\"faces\",img)\n",
    "#cv2.waitKey() == ord('q')\n",
    "#cv2.destroyAllWindows()"
   ]
  }
 ],
 "metadata": {
  "kernelspec": {
   "display_name": "Python 3",
   "language": "python",
   "name": "python3"
  },
  "language_info": {
   "codemirror_mode": {
    "name": "ipython",
    "version": 3
   },
   "file_extension": ".py",
   "mimetype": "text/x-python",
   "name": "python",
   "nbconvert_exporter": "python",
   "pygments_lexer": "ipython3",
   "version": "3.7.8"
  }
 },
 "nbformat": 4,
 "nbformat_minor": 4
}
